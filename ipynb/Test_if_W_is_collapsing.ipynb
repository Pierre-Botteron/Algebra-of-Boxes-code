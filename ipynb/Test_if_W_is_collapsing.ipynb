{
 "cells": [
  {
   "cell_type": "code",
   "execution_count": null,
   "metadata": {},
   "outputs": [],
   "source": [
    "import torch\n",
    "import matplotlib.pyplot as plt\n",
    "import non_local_boxes\n",
    "import matplotlib.patches as mpatches\n",
    "import matplotlib.lines as mlines\n",
    "\n",
    "# Sugar coating for reloading\n",
    "%matplotlib inline\n",
    "%load_ext autoreload\n",
    "%autoreload 2\n",
    "\n",
    "# in ordert to have unblurred pictures\n",
    "plt.rcParams['figure.dpi'] = 300\n",
    "plt.rcParams['savefig.dpi'] = 300"
   ]
  },
  {
   "cell_type": "code",
   "execution_count": null,
   "metadata": {},
   "outputs": [],
   "source": [
    "non_local_boxes.evaluate.nb_columns = 1"
   ]
  },
  {
   "attachments": {},
   "cell_type": "markdown",
   "metadata": {},
   "source": [
    "---\n",
    "# I. Test a Wiring $\\mathsf{W}$ in a Triangle"
   ]
  },
  {
   "cell_type": "code",
   "execution_count": null,
   "metadata": {},
   "outputs": [],
   "source": [
    "PR = non_local_boxes.utils.PR\n",
    "PL = non_local_boxes.utils.P_L\n",
    "PNL = non_local_boxes.utils.P_NL\n",
    "\n",
    "W_BS09 = torch.tensor([0., 0., 1., 1.,              # f_1(x, a_2) = x\n",
    "            0., 0., 1., 1.,              # g_1(y, b_2) = y\n",
    "            0., 0., 0., 1.,              # f_2(x, a_1) = a_1*x\n",
    "            0., 0., 0., 1.,              # g_2(y, b_1) = b_1*y\n",
    "            0., 1., 1., 0., 0., 1., 1., 0.,  # f_3(x, a_1, a_2) = a_1 + a_2 mod 2\n",
    "            0., 1., 1., 0., 0., 1., 1., 0.   # g_3(y, b_1, b_2) = b_1 + b_2 mod 2\n",
    "            ])"
   ]
  },
  {
   "cell_type": "markdown",
   "metadata": {},
   "source": [
    "We will draw in blue the collapsing boxes, and in red the ones for which the algorithm does not conclude positively.  First, we evaluate the proportion of blue points in a segment of the triangle to determine if it is interesting to continue drawing the whole triangle."
   ]
  },
  {
   "cell_type": "code",
   "execution_count": null,
   "metadata": {},
   "outputs": [],
   "source": [
    "matrix_to_tensor = non_local_boxes.utils.matrix_to_tensor\n",
    "tensor_to_matrix = non_local_boxes.utils.tensor_to_matrix\n",
    "R = non_local_boxes.evaluate.R\n",
    "def hflat(P): return float(non_local_boxes.evaluate.h_flat(P))\n",
    "\n",
    "def proportion_blue_points_in_a_segment(W, Box1, Box3, box_grid_size, max_box_power, threshold):\n",
    "    \n",
    "    number_blue_points = 0\n",
    "\n",
    "    for i in range(box_grid_size+1):\n",
    "        alpha = i/box_grid_size\n",
    "        P = alpha*Box1 + (1-alpha)*Box3   # P is a 4x4 matrix\n",
    "        color_point = \"orangered\"\n",
    "\n",
    "        Qright=matrix_to_tensor(torch.clone(P))  # Q is a 2x2x2x2 tensor\n",
    "        Qcenter=matrix_to_tensor(torch.clone(P))  # Q is a 2x2x2x2 tensor\n",
    "        Qleft=matrix_to_tensor(torch.clone(P))  # Q is a 2x2x2x2 tensor\n",
    "        value = max(hflat(Qright), hflat(Qcenter), hflat(Qleft))\n",
    "        if value > threshold:\n",
    "            color_point = (0, 0.1, 0.1)\n",
    "            number_blue_points += 1\n",
    "        else:\n",
    "            if value != 0.75:\n",
    "                for l in range(max_box_power):\n",
    "                    if color_point != \"orangered\": break\n",
    "                    Qright=R(W, tensor_to_matrix(Qright), P)[:,:,:,:,0]\n",
    "                    Qcenter=R(W, tensor_to_matrix(Qcenter), tensor_to_matrix(Qcenter))[:,:,:,:,0]\n",
    "                    Qleft=R(W, P, tensor_to_matrix(Qleft))[:,:,:,:,0]\n",
    "                    value = max(hflat(Qright), hflat(Qcenter), hflat(Qleft))\n",
    "                    if value > threshold:\n",
    "                        color_point = (0, 0.1*(1-l/max_box_power)+1*(l/max_box_power), 0.1*(1-l/max_box_power)+1*(l/max_box_power))\n",
    "                        number_blue_points += 1\n",
    "\n",
    "    return number_blue_points/box_grid_size"
   ]
  },
  {
   "cell_type": "code",
   "execution_count": null,
   "metadata": {},
   "outputs": [],
   "source": [
    "def test_wiring_triangle(W, Box1, Box1_name, Box2, Box2_name, Box3, Box3_name, box_grid_size, max_box_power, threshold, Details_Are_Printed, good_proportion=0.39):\n",
    "    # W is a vector of size 32\n",
    "    n = non_local_boxes.evaluate.nb_columns\n",
    "    W = torch.t(W.repeat(n, 1))\n",
    "    # Now W is a 32xn tensor\n",
    "\n",
    "    # Check the proportion of blue points in the top segment -> stop if there is no enough blue points.\n",
    "    if proportion_blue_points_in_a_segment(W, Box1, Box3, box_grid_size, 21, threshold)<good_proportion:\n",
    "        if Details_Are_Printed: print(\"-- Not collapsing:  \", Box1_name,\" -- \", Box3_name)\n",
    "        return \"\"\n",
    "\n",
    "    X = torch.tensor([[1,3], [4,1], [4, 5]]).numpy()\n",
    "    triangle = plt.Polygon(X[:3,:], color=\"snow\")\n",
    "    plt.gca().add_patch(triangle)\n",
    "    \n",
    "    for i in range(box_grid_size+1):\n",
    "        for j in range(box_grid_size-i+1):\n",
    "            alpha, beta = i/box_grid_size, j/box_grid_size\n",
    "            P = alpha*Box1 + beta*Box2 + (1-alpha-beta)*Box3   # P is a 4x4 matrix\n",
    "            color_point = \"orangered\"\n",
    "\n",
    "            Qright=matrix_to_tensor(torch.clone(P))  # Q is a 2x2x2x2 tensor\n",
    "            Qcenter=matrix_to_tensor(torch.clone(P))  # Q is a 2x2x2x2 tensor\n",
    "            Qleft=matrix_to_tensor(torch.clone(P))  # Q is a 2x2x2x2 tensor\n",
    "            value = max(hflat(Qright), hflat(Qcenter), hflat(Qleft))\n",
    "            if value > threshold:  color_point = (0, 0.1, 0.1)\n",
    "            else:\n",
    "                for l in range(max_box_power):\n",
    "                    if color_point != \"orangered\":  break\n",
    "                    Qright=R(W, tensor_to_matrix(Qright), P)[:,:,:,:,0]\n",
    "                    Qcenter=R(W, tensor_to_matrix(Qcenter), tensor_to_matrix(Qcenter))[:,:,:,:,0]\n",
    "                    Qleft=R(W, P, tensor_to_matrix(Qleft))[:,:,:,:,0]\n",
    "                    value = max(hflat(Qright), hflat(Qcenter), hflat(Qleft))\n",
    "                    if value > threshold:  color_point = (0, 0.1*(1-l/max_box_power)+1*(l/max_box_power), 0.1*(1-l/max_box_power)+1*(l/max_box_power))\n",
    "\n",
    "            plt.plot(X[0,0]*alpha + X[1,0]*beta + X[2,0]*(1-alpha-beta), X[0,1]*alpha + X[1,1]*beta + X[2,1]*(1-alpha-beta), 'o', markersize=3, color=color_point)\n",
    "                    \n",
    "    plt.text(X[0,0], X[0,1]+0.1, Box1_name, horizontalalignment='center')\n",
    "    plt.text(X[1,0]+0.1, X[1,1], Box2_name, verticalalignment='center')\n",
    "    plt.text(X[2,0]+0.1, X[2,1], Box3_name, verticalalignment='center')\n",
    "    handles = []\n",
    "    handles.append( mlines.Line2D([], [], marker='o',ls='', color=(0, 0.7, 0.7), label= \"Collapsing boxes\") )\n",
    "    handles.append( mlines.Line2D([], [], marker='o',ls='', color=\"orangered\", label= \"Inconclusive algorithm\") )\n",
    "    plt.legend(handles=handles, fontsize = 10)\n",
    "    plt.show()"
   ]
  },
  {
   "attachments": {},
   "cell_type": "markdown",
   "metadata": {},
   "source": [
    "### Let's go:"
   ]
  },
  {
   "cell_type": "code",
   "execution_count": null,
   "metadata": {},
   "outputs": [],
   "source": [
    "W = W_BS09\n",
    "\n",
    "test_wiring_triangle(\n",
    "    W = W,\n",
    "    Box1=non_local_boxes.utils.PR,  Box1_name = \"$\\mathbf{PR}$\",\n",
    "    Box2=non_local_boxes.utils.P_0, Box2_name = \"$\\mathbf{P}_0$\",\n",
    "    Box3=non_local_boxes.utils.P_1, Box3_name = \"$\\mathbf{P}_1$\",\n",
    "    box_grid_size = 60,  # 60\n",
    "    max_box_power = 7,  # 10\n",
    "    threshold = (3 + float(torch.sqrt(torch.tensor(6))))/6,\n",
    "    Details_Are_Printed=True\n",
    ")"
   ]
  },
  {
   "attachments": {},
   "cell_type": "markdown",
   "metadata": {},
   "source": [
    "--- \n",
    "# II. Test a wiring $\\mathsf{W}$ in many Triangles"
   ]
  },
  {
   "cell_type": "code",
   "execution_count": null,
   "metadata": {},
   "outputs": [],
   "source": [
    "def Test_Wiring(W_list, Fixed_box_in_drawings, Fixed_box_name, known_collapsing_W, Details_Are_Printed, compare_with_known_wirings=True, box_grid_size=60, max_box_power=20):\n",
    "    # W_list is given as a list here\n",
    "\n",
    "    if non_local_boxes.evaluate.nb_columns != 1:\n",
    "        print(\"\\n   WARNING: Please, set the number of columns to 1 (in `non_local_boxes.evaluate`).\")\n",
    "        return None\n",
    "\n",
    "    W = torch.tensor(W_list)*1.\n",
    "    if Details_Are_Printed: print(\"------ Number of known wirings: \", len(known_collapsing_W))\n",
    "    print(\"\\nW = \",W,\"\\n\")\n",
    "    if compare_with_known_wirings:\n",
    "        for i in range(len(known_collapsing_W)):\n",
    "            if torch.all(W == torch.tensor(known_collapsing_W[i])):\n",
    "                print(\" !!!  This wiring is already known: \",i+1,\"th/ \",len(known_collapsing_W),\"  !!!\")\n",
    "                return None\n",
    "    \n",
    "    threshold = (3 + float(torch.sqrt(torch.tensor(6))))/6 \n",
    "\n",
    "    p = proportion_blue_points_in_a_segment(torch.t(W.repeat(1, 1)), PR, Fixed_box_in_drawings, 40, 40, threshold)\n",
    "    texte = \"\"\n",
    "    if Details_Are_Printed: texte =\"------ \"\n",
    "    print(texte,\"Proportion of blue points in the segment PR --\", Fixed_box_name, \":   \", 100*p, \"%\")\n",
    "\n",
    "    if p>0.4:\n",
    "        boxes_to_be_tested = non_local_boxes.utils.boxes_to_be_tested\n",
    "        for box_number in boxes_to_be_tested:\n",
    "            mu, nu, sigma, tau = box_number\n",
    "            if PL(mu,nu,sigma,tau).tolist() != Fixed_box_in_drawings.tolist():\n",
    "                test_wiring_triangle(\n",
    "                    W = W,\n",
    "                    Box1=PR,  Box1_name = \"PR\",\n",
    "                    Box2 = Fixed_box_in_drawings, Box2_name = Fixed_box_name,\n",
    "                    Box3=PL(mu,nu,sigma,tau), Box3_name = f\"\"\"$\\mathbf{{P}}_L^{{{mu}{nu}{sigma}{tau}}}$\"\"\",\n",
    "                    box_grid_size = box_grid_size,\n",
    "                    max_box_power = max_box_power,\n",
    "                    threshold = threshold,\n",
    "                    Details_Are_Printed = Details_Are_Printed\n",
    "                )\n",
    "\n",
    "    if Details_Are_Printed:  print(\"---------- FINISHED ----------\")"
   ]
  },
  {
   "attachments": {},
   "cell_type": "markdown",
   "metadata": {},
   "source": [
    "### Let's go:"
   ]
  },
  {
   "cell_type": "code",
   "execution_count": null,
   "metadata": {},
   "outputs": [],
   "source": [
    "known_collapsing_W = non_local_boxes.utils.known_collapsing_W\n",
    "\n",
    "W = [0.,0.,1.,0.,1.,0.,0.,1.,0.,0.,1.,1.,1.,1.,0.,0.,1.,0.,0.,1.,0.,1.,1.,0.,1.,0.,0.,1.,1.,0.,0.,1.]\n",
    "\n",
    "non_local_boxes.utils.print_functions_from_wiring(W)\n",
    "print(\"\")\n",
    "\n",
    "Test_Wiring(\n",
    "    W,\n",
    "    PL(1,0,0,0), \"$\\mathbf{P}_L^{0010}$\",\n",
    "    known_collapsing_W,\n",
    "    Details_Are_Printed = True,\n",
    "    compare_with_known_wirings=False,\n",
    "    box_grid_size=60, max_box_power=10\n",
    ")"
   ]
  }
 ],
 "metadata": {
  "kernelspec": {
   "display_name": ".venv_boxes",
   "language": "python",
   "name": "python3"
  },
  "language_info": {
   "codemirror_mode": {
    "name": "ipython",
    "version": 3
   },
   "file_extension": ".py",
   "mimetype": "text/x-python",
   "name": "python",
   "nbconvert_exporter": "python",
   "pygments_lexer": "ipython3",
   "version": "3.9.12"
  },
  "orig_nbformat": 4
 },
 "nbformat": 4,
 "nbformat_minor": 2
}
