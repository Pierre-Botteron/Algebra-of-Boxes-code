{
 "cells": [
  {
   "cell_type": "code",
   "execution_count": null,
   "metadata": {},
   "outputs": [],
   "source": [
    "import torch\n",
    "import non_local_boxes\n",
    "import numpy as np\n",
    "\n",
    "import warnings\n",
    "warnings.filterwarnings(\"ignore\")   # to ignore the warning messages\n",
    "\n",
    "# Sugar coating for reloading\n",
    "%matplotlib inline\n",
    "%load_ext autoreload\n",
    "%autoreload 2"
   ]
  },
  {
   "cell_type": "code",
   "execution_count": null,
   "metadata": {},
   "outputs": [],
   "source": [
    "non_local_boxes.evaluate.nb_columns = 1"
   ]
  },
  {
   "attachments": {},
   "cell_type": "markdown",
   "metadata": {},
   "source": [
    "---\n",
    "# I. Definitions"
   ]
  },
  {
   "cell_type": "markdown",
   "metadata": {},
   "source": [
    "### Nonlocal Boxes"
   ]
  },
  {
   "cell_type": "code",
   "execution_count": null,
   "metadata": {},
   "outputs": [],
   "source": [
    "PR = non_local_boxes.utils.PR\n",
    "PRprime = non_local_boxes.utils.PRprime\n",
    "P0 = non_local_boxes.utils.P_0\n",
    "P1 = non_local_boxes.utils.P_1\n",
    "SR = (P0+P1)/2\n",
    "I = non_local_boxes.utils.I\n",
    "\n",
    "P_NL = non_local_boxes.utils.P_NL\n",
    "P_L = non_local_boxes.utils.P_L\n",
    "\n",
    "Boxes_all = []  # it will contain all the extremal boxes of NS\n",
    "for mu in range(2):\n",
    "    for nu in range(2):\n",
    "        for sigma in range(2):\n",
    "            Boxes_all.append([P_NL(mu, nu, sigma), \"PNL(\"+str(mu)+str(nu)+str(sigma)+\")\"])\n",
    "            for tau in range(2):\n",
    "                Boxes_all.append([P_L(mu, nu, sigma, tau), \"PL(\"+str(mu)+str(nu)+str(sigma)+str(tau)+\")\"])\n",
    "\n",
    "R_all = [Boxes_all[j][0] for j in range(len(Boxes_all))]"
   ]
  },
  {
   "cell_type": "markdown",
   "metadata": {},
   "source": [
    "### Find the Multiplication Table (Gradient Descent)"
   ]
  },
  {
   "cell_type": "code",
   "execution_count": null,
   "metadata": {},
   "outputs": [],
   "source": [
    "def projection(T):\n",
    "    T = torch.max(T, torch.zeros_like(T))\n",
    "    c = torch.sum(T)\n",
    "    if c>1:  T += -torch.ones_like(T)*(c-1)/T.size(dim=0)\n",
    "    return T\n",
    "\n",
    "def loss(T, Q, R):\n",
    "    # R is a list of 4x4 matrices\n",
    "    # T is a nx1 tensor\n",
    "    n = len(T)\n",
    "    NewBox = torch.zeros_like(R[0])\n",
    "    NewBox = torch.tensordot(T, R[:-1,:,:], dims=1)\n",
    "    NewBox += (1-torch.sum(T))*R[n]\n",
    "    return torch.sum(torch.abs(NewBox - Q))\n",
    "\n",
    "def find_coeff(Q, R, learning_rate, number_steps, do_a_projection=True):\n",
    "    # Goal: find (a_0, ..., a_{n-1}) such that Q = a_0*R_0 + ... + a_{n-1}*_R_{n-1} + (1-a_0-...-a_{n-1})*R_n\n",
    "    # How: gradient descent\n",
    "    # Q is 4x4 matrices\n",
    "    # R is a list of 4x4 matrices\n",
    "    # n := len(R)-1\n",
    "    # T will be torch.tensor([a_0, ..., a_{n-1}])\n",
    "\n",
    "    T = 0.5 * torch.ones(len(R) - 1)\n",
    "    T.requires_grad=True\n",
    "    for i in range(number_steps):\n",
    "        loss(T, Q, R).backward()\n",
    "        if do_a_projection:   T = projection(T - T.grad*learning_rate/(i+1)).detach()\n",
    "        else:   T = (T - T.grad*learning_rate/(i+1)).detach()\n",
    "        T.requires_grad = True\n",
    "    return T"
   ]
  },
  {
   "cell_type": "code",
   "execution_count": null,
   "metadata": {},
   "outputs": [],
   "source": [
    "def write_combinaison(P, Pname, Boxes, learning_rate=1, number_steps=5000, decimals=2, do_a_projection=True, print_mistakes=False):\n",
    "    R = torch.zeros((len(Boxes), 4, 4))\n",
    "    for j in range(len(Boxes)):\n",
    "        R[j, :, :]=torch.tensor(Boxes[j][0]).clone().detach()\n",
    "    string = Pname+\" = \"\n",
    "\n",
    "    T = find_coeff(P.clone(), R, learning_rate, number_steps, do_a_projection)\n",
    "    values = np.around(T.tolist(), decimals=decimals).tolist()\n",
    "    values.append(1-sum(values))\n",
    "\n",
    "    for j in range(len(values)):\n",
    "        if values[j] != 0:\n",
    "            if string != Pname+\" = \": string += \" + \"\n",
    "            if values[j]==1: string += Boxes[j][1]\n",
    "            else: string += str(values[j])+\"·\"+Boxes[j][1]\n",
    "    error = float(loss(torch.tensor(values[:-1]),P,R))\n",
    "    if error == 0:   string += \"    (exact)\"\n",
    "    else:      \n",
    "        string += \"    !!!!! ERROR=\"+str(error)+\" !!!!!\"\n",
    "        if print_mistakes:   print(P)\n",
    "\n",
    "    print(string)"
   ]
  },
  {
   "cell_type": "code",
   "execution_count": null,
   "metadata": {},
   "outputs": [],
   "source": [
    "def multiplication_table(Boxes, W, learning_rate=1, number_steps=5000, decimals=2, do_a_projection=True):\n",
    "    if non_local_boxes.evaluate.nb_columns!=1:\n",
    "        print(\"\\n   WARNING: Please, set the number of columns to 1 (in `non_local_boxes.evaluate`).\")\n",
    "        return None\n",
    "    for Q1 in Boxes:\n",
    "        print(\"\\n-----\\n\")\n",
    "        for Q2 in Boxes:\n",
    "            P = non_local_boxes.utils.tensor_to_matrix(non_local_boxes.evaluate.R(W, Q1[0], Q2[0]))\n",
    "            Pname = Q1[1]+\" ⊠_W \"+Q2[1]\n",
    "            write_combinaison(P, Pname, Boxes, learning_rate, number_steps, decimals, do_a_projection)\n",
    "            "
   ]
  },
  {
   "attachments": {},
   "cell_type": "markdown",
   "metadata": {},
   "source": [
    "---\n",
    "# II. Draw the Multiplication Tables"
   ]
  },
  {
   "cell_type": "markdown",
   "metadata": {},
   "source": [
    "### Multiplication Table of $\\mathsf{W}_{bs}$:"
   ]
  },
  {
   "cell_type": "code",
   "execution_count": null,
   "metadata": {},
   "outputs": [],
   "source": [
    "m=non_local_boxes.evaluate.nb_columns\n",
    "\n",
    "Boxes = [\n",
    "    [PR, \"PR\"],\n",
    "    [SR, \"SR\"],\n",
    "    [I, \"I\"]\n",
    "    ]\n",
    "W = non_local_boxes.utils.W_BS09(m).detach()\n",
    "\n",
    "multiplication_table(\n",
    "    Boxes=Boxes,\n",
    "    W = W,\n",
    "    learning_rate=1,   #1\n",
    "    number_steps=5000, #5000\n",
    "    decimals = 2,      #2\n",
    "    do_a_projection = False\n",
    "    )"
   ]
  },
  {
   "cell_type": "markdown",
   "metadata": {},
   "source": [
    "### Multiplication Table of $\\mathsf{W}_{\\oplus}$:"
   ]
  },
  {
   "cell_type": "code",
   "execution_count": null,
   "metadata": {},
   "outputs": [],
   "source": [
    "Boxes = [\n",
    "    [PR, \"PR\"],\n",
    "    [P0, \"P0\"],\n",
    "    [P1, \"P1\"],\n",
    "    [I, \"I\"]\n",
    "    ]\n",
    "\n",
    "W = torch.tensor([0.0,0.0,1.0,1.0,0.0,0.0,1.0,1.0,0.0,0.0,1.0,1.0,0.0,0.0,1.0,1.0,0.0,1.0,1.0,0.0,0.0,1.0,1.0,0.0,0.0,1.0,1.0,0.0,0.0,1.0,1.0,0.0])*1.\n",
    "W = torch.t(W.repeat(m, 1))\n",
    "\n",
    "multiplication_table(\n",
    "    Boxes=Boxes,\n",
    "    W = W,\n",
    "    learning_rate=1,   #1\n",
    "    number_steps=5000, #5000\n",
    "    decimals = 2,      #2\n",
    "    do_a_projection = False\n",
    "    )"
   ]
  },
  {
   "cell_type": "markdown",
   "metadata": {},
   "source": [
    "### Find a specific combination:"
   ]
  },
  {
   "cell_type": "code",
   "execution_count": null,
   "metadata": {},
   "outputs": [],
   "source": [
    "Boxes = [\n",
    "    [PR, \"PR\"],\n",
    "    [P_L(0,0,0,0), \"P0\"],\n",
    "    [P_L(0,1,0,1), \"P1\"],\n",
    "    [P_L(0,0,0,1), \"P01\"],\n",
    "    [P_L(0,1,0,0), \"P10\"]\n",
    "    ]\n",
    "\n",
    "W = non_local_boxes.utils.W_NSSRRB22(1).detach()\n",
    "P =non_local_boxes.utils.tensor_to_matrix(non_local_boxes.evaluate.R(W, I, I))\n",
    "Pname = \"P\"\n",
    "\n",
    "write_combinaison(\n",
    "    P=P,\n",
    "    Pname = Pname,\n",
    "    Boxes=Boxes,\n",
    "    learning_rate=1,        # 1\n",
    "    number_steps=int(5e5),  # int(1e5)\n",
    "    decimals = 4,           # 4\n",
    "    do_a_projection = False,\n",
    "    print_mistakes = True\n",
    "    )"
   ]
  },
  {
   "attachments": {},
   "cell_type": "markdown",
   "metadata": {},
   "source": [
    "---\n",
    "# III. Given a slice, find a stabilizing wiring"
   ]
  },
  {
   "cell_type": "markdown",
   "metadata": {},
   "source": [
    "We list some collapsing wirings in `non_local_boxes.utils.known_collapsing_W`. But not all of them stabilize a given slice of boxes: it may be that, for some box $\\mathtt{P}$ in a slice of $\\mathcal{NS}$, the box $\\mathtt{P}\\boxtimes_{\\mathsf{W}}\\mathtt{P}$ does not belong to that slice.\n",
    "\n",
    "The purpose of the algorithm below is to check \"how far\" is a wiring to be stabilizing. If the sum of error is `0.0`, then the wiring stabilizes the slice. Otherwise, as the number increases, the wiring is less and less stabilizing."
   ]
  },
  {
   "cell_type": "code",
   "execution_count": null,
   "metadata": {},
   "outputs": [],
   "source": [
    "def find_stabilizing_wiring(Boxes, learning_rate=1, number_steps=5000, decimals=2, do_a_projection=True):\n",
    "    Boxes_string = \"\"\n",
    "    for P in Boxes:\n",
    "        Boxes_string+=P[1]+\"  \"\n",
    "    print(\"SLICE:  \"+Boxes_string+\"\\n\")\n",
    "    print(\"Learning rate:       \"+str(learning_rate))\n",
    "    print(\"Number of steps:     \"+str(number_steps))\n",
    "    print(\"Number of decimals:  \"+str(decimals)+\"\\n\")\n",
    "    i=0\n",
    "    minvalue = 1000\n",
    "    imin = 0\n",
    "    assert(non_local_boxes.evaluate.nb_columns==1)\n",
    "    print(\"WIRINGS  | Sum of errors\")\n",
    "    print(\"------------------------\")\n",
    "    for W in non_local_boxes.utils.known_collapsing_W:\n",
    "        i+=1\n",
    "        W = torch.tensor(W)*1.\n",
    "        W = torch.t(W.repeat(1, 1))\n",
    "        sum_errors=0\n",
    "\n",
    "        for Q1 in Boxes:\n",
    "            for Q2 in Boxes:\n",
    "                P = non_local_boxes.utils.tensor_to_matrix(non_local_boxes.evaluate.R(W, Q1[0], Q2[0]))\n",
    "                \n",
    "                R = torch.zeros((len(Boxes), 4, 4))\n",
    "                for j in range(len(Boxes)):\n",
    "                    R[j, :, :]=torch.tensor(Boxes[j][0]).clone().detach()   \n",
    "\n",
    "                T = find_coeff(P.clone(), R, learning_rate, number_steps, do_a_projection)\n",
    "                values = np.around(T.tolist(), decimals=decimals).tolist()\n",
    "                values.append(1-sum(values))\n",
    "                error = float(loss(torch.tensor(values[:-1]),P,R))\n",
    "                sum_errors+=error\n",
    "\n",
    "        string=\"W_\"+str(i)\n",
    "        for _ in range(int(6-np.floor(np.log10(i)))):\n",
    "            string+=\" \"\n",
    "        string+=\"| \"+str(sum_errors)\n",
    "        print(string)\n",
    "        if sum_errors<minvalue:\n",
    "            minvalue=sum_errors\n",
    "            imin=i\n",
    "    \n",
    "    print(\"\\nMinimal value: \"+str(minvalue)+\",  achieved at W_\"+str(imin))"
   ]
  },
  {
   "cell_type": "code",
   "execution_count": null,
   "metadata": {},
   "outputs": [],
   "source": [
    "Boxes = [\n",
    "    [PR, \"PR\"],\n",
    "    [P_L(0,0,0,0), \"P0\"],\n",
    "    [P_L(0,1,0,1), \"P1\"],\n",
    "    ]\n",
    "\n",
    "find_stabilizing_wiring(\n",
    "    Boxes=Boxes,\n",
    "    learning_rate=1,   #1\n",
    "    number_steps=5000, #5000\n",
    "    decimals = 2,      #2\n",
    "    do_a_projection = False\n",
    "    )"
   ]
  },
  {
   "cell_type": "code",
   "execution_count": null,
   "metadata": {},
   "outputs": [],
   "source": []
  }
 ],
 "metadata": {
  "kernelspec": {
   "display_name": ".venv_boxes",
   "language": "python",
   "name": "python3"
  },
  "language_info": {
   "codemirror_mode": {
    "name": "ipython",
    "version": 3
   },
   "file_extension": ".py",
   "mimetype": "text/x-python",
   "name": "python",
   "nbconvert_exporter": "python",
   "pygments_lexer": "ipython3",
   "version": "3.9.12"
  },
  "orig_nbformat": 4
 },
 "nbformat": 4,
 "nbformat_minor": 2
}
